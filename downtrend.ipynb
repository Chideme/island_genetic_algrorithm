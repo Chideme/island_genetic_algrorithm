{
 "cells": [
  {
   "cell_type": "code",
   "execution_count": 45,
   "id": "24d56d96",
   "metadata": {},
   "outputs": [],
   "source": [
    "import numpy as np\n",
    "import random\n",
    "import math\n",
    "import multiprocess as mp\n",
    "import talib as ta\n",
    "import pandas as pd\n",
    "from sklearn.model_selection import train_test_split\n",
    "import matplotlib.pyplot as plt\n",
    "from datetime import datetime,date\n",
    "from gga import GGA\n",
    "from island_ga import IslandGGA  \n",
    "from chromosome import Chromosome \n",
    "import itertools"
   ]
  },
  {
   "cell_type": "code",
   "execution_count": 46,
   "id": "1c095a20",
   "metadata": {},
   "outputs": [
    {
     "data": {
      "text/plain": [
       "Index(['Date', 'Open', 'High', 'Low', 'Close', 'Adj Close', 'Volume'], dtype='object')"
      ]
     },
     "execution_count": 46,
     "metadata": {},
     "output_type": "execute_result"
    }
   ],
   "source": [
    "data=pd.read_csv('UA.csv')\n",
    "data.columns"
   ]
  },
  {
   "cell_type": "code",
   "execution_count": 47,
   "id": "5e4c4b1c",
   "metadata": {},
   "outputs": [],
   "source": [
    "#rename column to remove spaces in column names\n",
    "data=pd.read_csv('UA.csv')\n",
    "data =data.rename(columns={'Close': 'close', 'Volume': 'volume',\n",
    "                           'Open':'open','High':'high','Low':'low'})\n",
    "#change date string into date format and sort the dataframe in ascending order\n",
    "data[['Date']] = data[['Date']].applymap(lambda x: datetime.strptime(x,'%Y-%m-%d').date())\n",
    "data =data.sort_values(by='Date')\n",
    "#Create Signals using Talib library\n",
    "data['5EMA'] = ta.SMA(np.array(data['close']),5)\n",
    "data['20EMA'] = ta.EMA(np.array(data['close']), timeperiod = 20)\n",
    "data['RSI'] = ta.RSI(np.array(data['close']), timeperiod = 14)\n",
    "data['WILLR'] = ta.WILLR(np.array(data['high']), np.array(data['low']), np.array(data['close']), timeperiod=14)\n",
    "data['MOM'] = ta.MOM(np.array(data['close']), timeperiod=5)\n",
    "data['CCI'] = ta.CCI(np.array(data['high']), np.array(data['low']), np.array(data['close']), timeperiod=14)\n",
    "data['SLOWK'],data['SLOWD'] = ta.STOCH(np.array(data['high']), np.array(data['low']), np.array(data['close']), fastk_period=14, slowk_period=3, slowd_period=3)\n",
    "data['MACD'],data['MACDSIGNAL'],data['MACDHIST'] = ta.MACD(np.array(data['close']), fastperiod=12, slowperiod=26, signalperiod=9)\n",
    "data['DMI'] = ta.DX(np.array(data['high']), np.array(data['low']), np.array(data['close']), timeperiod=14)   "
   ]
  },
  {
   "cell_type": "code",
   "execution_count": 49,
   "id": "39f37476",
   "metadata": {},
   "outputs": [],
   "source": [
    "#  \"\"\"Based on parameter setting adopted in Chen et al (2021) \"\"\"\n",
    "\n",
    "def generate_candidate_trading_signals(data):\n",
    "    \"\"\"Based on parameter setting adopted in Chen et al (2021) \"\"\"\n",
    "    conditions ={'TS1_CONDITIONS':[\n",
    "                (data['5EMA'] > data['20EMA']),\n",
    "                (data['5EMA'] < data['20EMA'])],\n",
    "                 'TS2_CONDITIONS':[\n",
    "                (data['RSI'] > 30),\n",
    "                (data['RSI'] < 70),\n",
    "                ],\n",
    "                 'TS3_CONDITIONS':[\n",
    "                (data['WILLR'] < 80),\n",
    "                (data['WILLR'] > 20),\n",
    "                ],\n",
    "                 'TS4_CONDITIONS':[\n",
    "                (data['MOM'] > 0 ),\n",
    "                (data['MOM'] <= 0),\n",
    "                ],\n",
    "                 'TS5_CONDITIONS': [\n",
    "                (data['CCI'] > 100 ),\n",
    "                (data['CCI'] <= 100),\n",
    "                ],\n",
    "                 'TS6_CONDITIONS': [\n",
    "                (data['SLOWK'] > data['SLOWD']) & (data['SLOWD'] < 20),\n",
    "                (data['SLOWK'] < data['SLOWD']) & (data['SLOWD'] > 80)],\n",
    "                'TS7_CONDITIONS': [\n",
    "                (data['MACD'] > 0 ),\n",
    "                (data['MACD'] <= 0)],\n",
    "                'TS8_CONDITIONS': [\n",
    "                (data['CCI'] > 100 ),\n",
    "                (data['CCI'] <= -100)]}\n",
    "\n",
    "    # create a list of the values we want to assign for each condition 1: buy, 0: sell\n",
    "    values = [1, 0]\n",
    "\n",
    "    # create a new column and use np.select to assign values to it using our lists as arguments\n",
    "    for i in conditions:\n",
    "        data[i] = np.select(conditions[i], values)\n",
    "    strategies =list(conditions.keys())\n",
    "    return data,strategies\n",
    "data, strategies =generate_candidate_trading_signals(data.copy())"
   ]
  },
  {
   "cell_type": "code",
   "execution_count": 50,
   "id": "3539b9c3",
   "metadata": {},
   "outputs": [],
   "source": [
    "#split data\n",
    "train = data[(data['Date'] <= date(2019,12,31))]\n",
    "test = data[(data['Date'] > date(2019,12,31))]\n",
    "train_data, strategies =generate_candidate_trading_signals(train.copy())\n",
    "test_data, test_strategies =generate_candidate_trading_signals(test.copy())\n",
    "num_islands=3\n",
    "num_iter=80\n",
    "pSize=50\n",
    "m_iter=5\n",
    "N=5\n",
    "K=3\n",
    "r_cross=0.8\n",
    "r_mut= 0.01\n",
    "r_inv=0.3\n",
    "n=4\n",
    "b=4\n",
    "stop_loss=-0.15\n",
    "take_profit=0.15\n",
    "allocated_capital=1000\n",
    "islandgga = IslandGGA(num_islands,num_iter,train_data,strategies,pSize,m_iter,N,K,r_cross,r_mut,r_inv,n,b,stop_loss,take_profit,allocated_capital)"
   ]
  },
  {
   "cell_type": "code",
   "execution_count": 51,
   "id": "ae676600",
   "metadata": {},
   "outputs": [
    {
     "name": "stdout",
     "output_type": "stream",
     "text": [
      "ITERATION: 1 DONE\n",
      "========================\n",
      "ITERATION: 2 DONE\n",
      "========================\n",
      "ITERATION: 3 DONE\n",
      "========================\n",
      "ITERATION: 4 DONE\n",
      "========================\n",
      "ITERATION: 5 DONE\n",
      "========================\n",
      "ITERATION: 6 DONE\n",
      "========================\n",
      "ITERATION: 7 DONE\n",
      "========================\n",
      "ITERATION: 8 DONE\n",
      "========================\n",
      "ITERATION: 9 DONE\n",
      "========================\n",
      "ITERATION: 10 DONE\n",
      "========================\n",
      "ITERATION: 11 DONE\n",
      "========================\n",
      "ITERATION: 12 DONE\n",
      "========================\n",
      "ITERATION: 13 DONE\n",
      "========================\n",
      "ITERATION: 14 DONE\n",
      "========================\n",
      "ITERATION: 15 DONE\n",
      "========================\n",
      "ITERATION: 16 DONE\n",
      "========================\n",
      "ITERATION: 17 DONE\n",
      "========================\n",
      "ITERATION: 18 DONE\n",
      "========================\n",
      "ITERATION: 19 DONE\n",
      "========================\n",
      "ITERATION: 20 DONE\n",
      "========================\n",
      "ITERATION: 21 DONE\n",
      "========================\n",
      "ITERATION: 22 DONE\n",
      "========================\n",
      "ITERATION: 23 DONE\n",
      "========================\n",
      "ITERATION: 24 DONE\n",
      "========================\n",
      "ITERATION: 25 DONE\n",
      "========================\n",
      "ITERATION: 26 DONE\n",
      "========================\n",
      "ITERATION: 27 DONE\n",
      "========================\n",
      "ITERATION: 28 DONE\n",
      "========================\n",
      "ITERATION: 29 DONE\n",
      "========================\n",
      "ITERATION: 30 DONE\n",
      "========================\n",
      "ITERATION: 31 DONE\n",
      "========================\n",
      "ITERATION: 32 DONE\n",
      "========================\n",
      "ITERATION: 33 DONE\n",
      "========================\n",
      "ITERATION: 34 DONE\n",
      "========================\n",
      "ITERATION: 35 DONE\n",
      "========================\n",
      "ITERATION: 36 DONE\n",
      "========================\n",
      "ITERATION: 37 DONE\n",
      "========================\n",
      "ITERATION: 38 DONE\n",
      "========================\n",
      "ITERATION: 39 DONE\n",
      "========================\n",
      "ITERATION: 40 DONE\n",
      "========================\n",
      "ITERATION: 41 DONE\n",
      "========================\n",
      "ITERATION: 42 DONE\n",
      "========================\n",
      "ITERATION: 43 DONE\n",
      "========================\n",
      "ITERATION: 44 DONE\n",
      "========================\n",
      "ITERATION: 45 DONE\n",
      "========================\n"
     ]
    },
    {
     "ename": "KeyboardInterrupt",
     "evalue": "",
     "output_type": "error",
     "traceback": [
      "\u001b[0;31m---------------------------------------------------------------------------\u001b[0m",
      "\u001b[0;31mKeyboardInterrupt\u001b[0m                         Traceback (most recent call last)",
      "\u001b[1;32m/Users/kuda/Projects/island_ga/downtrend.ipynb Cell 6\u001b[0m in \u001b[0;36m6\n\u001b[1;32m      <a href='vscode-notebook-cell:/Users/kuda/Projects/island_ga/downtrend.ipynb#X16sZmlsZQ%3D%3D?line=3'>4</a>\u001b[0m gga \u001b[39m=\u001b[39m []\n\u001b[1;32m      <a href='vscode-notebook-cell:/Users/kuda/Projects/island_ga/downtrend.ipynb#X16sZmlsZQ%3D%3D?line=4'>5</a>\u001b[0m \u001b[39mfor\u001b[39;00m i \u001b[39min\u001b[39;00m \u001b[39mrange\u001b[39m(\u001b[39m80\u001b[39m):\n\u001b[0;32m----> <a href='vscode-notebook-cell:/Users/kuda/Projects/island_ga/downtrend.ipynb#X16sZmlsZQ%3D%3D?line=5'>6</a>\u001b[0m     islandgga\u001b[39m.\u001b[39;49mevolve_island_ring()\n\u001b[1;32m      <a href='vscode-notebook-cell:/Users/kuda/Projects/island_ga/downtrend.ipynb#X16sZmlsZQ%3D%3D?line=6'>7</a>\u001b[0m     best  \u001b[39m=\u001b[39m islandgga\u001b[39m.\u001b[39mglobalBest\n\u001b[1;32m      <a href='vscode-notebook-cell:/Users/kuda/Projects/island_ga/downtrend.ipynb#X16sZmlsZQ%3D%3D?line=7'>8</a>\u001b[0m     ring\u001b[39m.\u001b[39mappend(best)\n",
      "File \u001b[0;32m~/Projects/island_ga/island_ga.py:178\u001b[0m, in \u001b[0;36mIslandGGA.evolve_island_ring\u001b[0;34m(self)\u001b[0m\n\u001b[1;32m    176\u001b[0m     result_queues\u001b[39m.\u001b[39mappend(result_queue)\n\u001b[1;32m    177\u001b[0m \u001b[39mfor\u001b[39;00m process \u001b[39min\u001b[39;00m processes:\n\u001b[0;32m--> 178\u001b[0m     process\u001b[39m.\u001b[39;49mjoin()\n\u001b[1;32m    179\u001b[0m \u001b[39mfor\u001b[39;00m j \u001b[39min\u001b[39;00m \u001b[39mrange\u001b[39m(\u001b[39mself\u001b[39m\u001b[39m.\u001b[39mnum_islands):\n\u001b[1;32m    180\u001b[0m     \u001b[39mself\u001b[39m\u001b[39m.\u001b[39mislands[j] \u001b[39m=\u001b[39m result_queues[j]\u001b[39m.\u001b[39mget()\n",
      "File \u001b[0;32m~/Projects/genetic_algos/lib/python3.10/site-packages/multiprocess/process.py:149\u001b[0m, in \u001b[0;36mBaseProcess.join\u001b[0;34m(self, timeout)\u001b[0m\n\u001b[1;32m    147\u001b[0m \u001b[39massert\u001b[39;00m \u001b[39mself\u001b[39m\u001b[39m.\u001b[39m_parent_pid \u001b[39m==\u001b[39m os\u001b[39m.\u001b[39mgetpid(), \u001b[39m'\u001b[39m\u001b[39mcan only join a child process\u001b[39m\u001b[39m'\u001b[39m\n\u001b[1;32m    148\u001b[0m \u001b[39massert\u001b[39;00m \u001b[39mself\u001b[39m\u001b[39m.\u001b[39m_popen \u001b[39mis\u001b[39;00m \u001b[39mnot\u001b[39;00m \u001b[39mNone\u001b[39;00m, \u001b[39m'\u001b[39m\u001b[39mcan only join a started process\u001b[39m\u001b[39m'\u001b[39m\n\u001b[0;32m--> 149\u001b[0m res \u001b[39m=\u001b[39m \u001b[39mself\u001b[39;49m\u001b[39m.\u001b[39;49m_popen\u001b[39m.\u001b[39;49mwait(timeout)\n\u001b[1;32m    150\u001b[0m \u001b[39mif\u001b[39;00m res \u001b[39mis\u001b[39;00m \u001b[39mnot\u001b[39;00m \u001b[39mNone\u001b[39;00m:\n\u001b[1;32m    151\u001b[0m     _children\u001b[39m.\u001b[39mdiscard(\u001b[39mself\u001b[39m)\n",
      "File \u001b[0;32m~/Projects/genetic_algos/lib/python3.10/site-packages/multiprocess/popen_fork.py:43\u001b[0m, in \u001b[0;36mPopen.wait\u001b[0;34m(self, timeout)\u001b[0m\n\u001b[1;32m     41\u001b[0m             \u001b[39mreturn\u001b[39;00m \u001b[39mNone\u001b[39;00m\n\u001b[1;32m     42\u001b[0m     \u001b[39m# This shouldn't block if wait() returned successfully.\u001b[39;00m\n\u001b[0;32m---> 43\u001b[0m     \u001b[39mreturn\u001b[39;00m \u001b[39mself\u001b[39;49m\u001b[39m.\u001b[39;49mpoll(os\u001b[39m.\u001b[39;49mWNOHANG \u001b[39mif\u001b[39;49;00m timeout \u001b[39m==\u001b[39;49m \u001b[39m0.0\u001b[39;49m \u001b[39melse\u001b[39;49;00m \u001b[39m0\u001b[39;49m)\n\u001b[1;32m     44\u001b[0m \u001b[39mreturn\u001b[39;00m \u001b[39mself\u001b[39m\u001b[39m.\u001b[39mreturncode\n",
      "File \u001b[0;32m~/Projects/genetic_algos/lib/python3.10/site-packages/multiprocess/popen_fork.py:27\u001b[0m, in \u001b[0;36mPopen.poll\u001b[0;34m(self, flag)\u001b[0m\n\u001b[1;32m     25\u001b[0m \u001b[39mif\u001b[39;00m \u001b[39mself\u001b[39m\u001b[39m.\u001b[39mreturncode \u001b[39mis\u001b[39;00m \u001b[39mNone\u001b[39;00m:\n\u001b[1;32m     26\u001b[0m     \u001b[39mtry\u001b[39;00m:\n\u001b[0;32m---> 27\u001b[0m         pid, sts \u001b[39m=\u001b[39m os\u001b[39m.\u001b[39;49mwaitpid(\u001b[39mself\u001b[39;49m\u001b[39m.\u001b[39;49mpid, flag)\n\u001b[1;32m     28\u001b[0m     \u001b[39mexcept\u001b[39;00m \u001b[39mOSError\u001b[39;00m:\n\u001b[1;32m     29\u001b[0m         \u001b[39m# Child process not yet created. See #1731717\u001b[39;00m\n\u001b[1;32m     30\u001b[0m         \u001b[39m# e.errno == errno.ECHILD == 10\u001b[39;00m\n\u001b[1;32m     31\u001b[0m         \u001b[39mreturn\u001b[39;00m \u001b[39mNone\u001b[39;00m\n",
      "\u001b[0;31mKeyboardInterrupt\u001b[0m: "
     ]
    }
   ],
   "source": [
    "ring = []\n",
    "master = []\n",
    "multi = []\n",
    "gga = []\n",
    "for i in range(80):\n",
    "    islandgga.evolve_island_ring()\n",
    "    best  = islandgga.globalBest\n",
    "    ring.append(best)\n",
    "    islandgga.evolve_master_slave()\n",
    "    best  = islandgga.globalBest\n",
    "    master.append(best)\n",
    "    islandgga.evolve_island_multikuti()\n",
    "    best  = islandgga.globalBest\n",
    "    multi.append(best)\n",
    "    islandgga.evolve_gga()\n",
    "    best  = islandgga.globalBest\n",
    "    gga.append(best)\n",
    "    print(\"ITERATION: {} DONE\".format(i+1))\n",
    "    print(\"========================\")"
   ]
  },
  {
   "cell_type": "code",
   "execution_count": 54,
   "id": "d04a9ef7",
   "metadata": {},
   "outputs": [
    {
     "data": {
      "text/plain": [
       "<AxesSubplot: >"
      ]
     },
     "execution_count": 54,
     "metadata": {},
     "output_type": "execute_result"
    },
    {
     "data": {
      "image/png": "[encoded data removed]",
      "text/plain": [
       "<Figure size 640x480 with 1 Axes>"
      ]
     },
     "metadata": {},
     "output_type": "display_data"
    }
   ],
   "source": [
    "p_ring= []\n",
    "p_master = []\n",
    "p_multi = []\n",
    "p_gga = []\n",
    "for i in range(45):\n",
    "    p_ring.append(ring[i].getProfit(test_data,allocated_capital))\n",
    "    p_master.append(master[i].getProfit(test_data,allocated_capital))\n",
    "    p_multi.append(multi[i].getProfit(test_data,allocated_capital))\n",
    "    p_gga.append(gga[i].getProfit(test_data,allocated_capital))\n",
    "cols = [\"Ring Topology\",\"Master-Slave\",\"Multikuti\",'GGA']\n",
    "df = pd.DataFrame(np.column_stack([p_ring,p_master,p_multi,p_gga]), \n",
    "                               columns=cols)\n",
    "\n",
    "\n",
    "#df.describe()\n",
    "\n",
    "#df_1 =df_1.dropna(axis = 0)\n",
    "df.plot(kind='box')"
   ]
  },
  {
   "cell_type": "code",
   "execution_count": 56,
   "id": "d64ffd98",
   "metadata": {},
   "outputs": [
    {
     "data": {
      "text/plain": [
       "45"
      ]
     },
     "execution_count": 56,
     "metadata": {},
     "output_type": "execute_result"
    }
   ],
   "source": []
  },
  {
   "cell_type": "code",
   "execution_count": 60,
   "metadata": {},
   "outputs": [
    {
     "data": {
      "text/plain": [
       "<AxesSubplot: >"
      ]
     },
     "execution_count": 60,
     "metadata": {},
     "output_type": "execute_result"
    },
    {
     "data": {
      "image/png": "[encoded data removed]",
      "text/plain": [
       "<Figure size 640x480 with 1 Axes>"
      ]
     },
     "metadata": {},
     "output_type": "display_data"
    }
   ],
   "source": [
    "p_ring = []\n",
    "p_master = []\n",
    "p_multi = []\n",
    "p_gga = []\n",
    "for i in range(45):\n",
    "    p_ring.append(ring[i].getCorrelation(ring[i].strategy_performance(test_data)))\n",
    "    p_master.append(master[i].getCorrelation(master[i].strategy_performance(test_data)))\n",
    "    p_multi.append(multi[i].getCorrelation(multi[i].strategy_performance(test_data)))\n",
    "    p_gga.append(gga[i].getCorrelation(gga[i].strategy_performance(test_data)))\n",
    "cols = [\"Ring Topology\",\"Master-Slave\",\"Multikuti\",'GGA']\n",
    "cols_1= [\"Ring Topology\",\"Master-Slave\",\"Multikuti\"]\n",
    "df = pd.DataFrame(np.column_stack([p_ring,p_master,p_multi,p_gga]), \n",
    "                               columns=cols)\n",
    "\n",
    "\n",
    "#df.describe()\n",
    "\n",
    "#df_1 =df_1.dropna(axis = 0)\n",
    "df.plot(kind='box')"
   ]
  },
  {
   "cell_type": "code",
   "execution_count": 61,
   "id": "b012e8fa",
   "metadata": {},
   "outputs": [
    {
     "data": {
      "text/plain": [
       "<AxesSubplot: >"
      ]
     },
     "execution_count": 61,
     "metadata": {},
     "output_type": "execute_result"
    },
    {
     "data": {
      "image/png": "[encoded data removed]",
      "text/plain": [
       "<Figure size 640x480 with 1 Axes>"
      ]
     },
     "metadata": {},
     "output_type": "display_data"
    }
   ],
   "source": [
    "p_ring = []\n",
    "p_master = []\n",
    "p_multi = []\n",
    "p_gga = []\n",
    "for i in range(45):\n",
    "    ring[i].calculate_chromosome_fitness(test_data,allocated_capital)\n",
    "    p_ring.append(ring[i].fitness_value)\n",
    "    master[i].calculate_chromosome_fitness(test_data,allocated_capital)\n",
    "    p_master.append(master[i].fitness_value)\n",
    "    multi[i].calculate_chromosome_fitness(test_data,allocated_capital)\n",
    "    p_multi.append(multi[i].fitness_value)\n",
    "    gga[i].calculate_chromosome_fitness(test_data,allocated_capital)\n",
    "    p_gga.append(gga[i].fitness_value)\n",
    "cols = [\"Ring Topology\",\"Master-Slave\",\"Multikuti\",'GGA']\n",
    "#cols_1 = [\"Ring Topology\",\"Master-Slave\",\"Multikuti\"]\n",
    "df = pd.DataFrame(np.column_stack([p_ring,p_master,p_multi,p_gga]), \n",
    "                               columns=cols)\n",
    "#df_1 = df[cols_1]\n",
    "\n",
    "#df_1 = df_1[df[cols_1] < 100000]\n",
    "#print(df_1.isna().sum())\n",
    "#df_1 =df_1.dropna(axis = 0)\n",
    "#df.describe()\n",
    "df.plot(kind='box')"
   ]
  }
 ],
 "metadata": {
  "kernelspec": {
   "display_name": "genetic_algos",
   "language": "python",
   "name": "python3"
  },
  "language_info": {
   "codemirror_mode": {
    "name": "ipython",
    "version": 3
   },
   "file_extension": ".py",
   "mimetype": "text/x-python",
   "name": "python",
   "nbconvert_exporter": "python",
   "pygments_lexer": "ipython3",
   "version": "3.10.8"
  },
  "vscode": {
   "interpreter": {
    "hash": "43faf8d01a8aba8cec64b4d9f33171d2dc6fa8e1fdc037e6a7dd9611cf70e855"
   }
  }
 },
 "nbformat": 4,
 "nbformat_minor": 5
}
