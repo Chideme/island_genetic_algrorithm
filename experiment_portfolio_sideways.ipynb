{
 "cells": [
  {
   "cell_type": "code",
   "execution_count": null,
   "id": "24d56d96",
   "metadata": {},
   "outputs": [],
   "source": [
    "import numpy as np\n",
    "import random\n",
    "import math\n",
    "import heapq\n",
    "import multiprocess as mp\n",
    "import talib as ta\n",
    "import pandas as pd\n",
    "from sklearn.model_selection import train_test_split\n",
    "import matplotlib.pyplot as plt\n",
    "\n",
    "import time\n",
    "from island_ga import IslandGGA \n",
    "from chromosome import Chromosome \n",
    "from data_preprocessing import Data\n",
    "from single_data_processing import SingleAssetTI\n",
    "import itertools\n",
    "import yfinance as yf\n",
    "from pso import PortfolioPSO\n",
    "from model_comparator import ModelComparator\n",
    "from island_ga import IslandGGA\n",
    "from single_data_processing import SingleAssetTI\n",
    "\n",
    "import datetime"
   ]
  },
  {
   "cell_type": "code",
   "execution_count": null,
   "id": "1c095a20",
   "metadata": {},
   "outputs": [],
   "source": [
    "#GROUPON \n",
    "start_date = datetime.datetime(2010, 1, 1)\n",
    "end_date = datetime.datetime(2022, 12, 31)\n",
    "period =2019\n",
    "pSize = 150\n",
    "num_iter = 50\n",
    "num_runs = 10\n",
    "ticker = 'GM'\n"
   ]
  },
  {
   "cell_type": "code",
   "execution_count": null,
   "id": "94582aa9",
   "metadata": {},
   "outputs": [],
   "source": [
    "# Usage\n",
    "import traceback\n",
    "\n",
    "try:\n",
    "    # Code that raises the error\n",
    "    np.random.seed(42)\n",
    "    comparator = ModelComparator(stock_ticker=ticker,start_date=start_date, end_date=end_date, pSize=pSize, num_iter=num_iter, num_runs=num_runs)\n",
    "    comparator.run_comparison()\n",
    "    results_df = comparator.run_comparison()\n",
    "    comparator.plot_results(results_df, comparator.optimization_approaches)\n",
    "    results_df.to_csv('results/sideways.csv')\n",
    "        \n",
    "except Exception as e:\n",
    "    print(\"An error occurred:\")\n",
    "    traceback.print_exc()\n"
   ]
  },
  {
   "cell_type": "code",
   "execution_count": null,
   "id": "79613d81",
   "metadata": {},
   "outputs": [],
   "source": [
    "results_df = pd.read_csv('results/downtrend.csv')\n",
    "pd.set_option('display.max_rows', None)\n",
    "results_df.groupby([ 'model'])[[ 'returns', 'mdd']].mean().round(4)"
   ]
  },
  {
   "cell_type": "code",
   "execution_count": null,
   "id": "1a8f1e55",
   "metadata": {},
   "outputs": [],
   "source": [
    "training_df = results_df[results_df['phase'] == 'train']\n",
    "training_df.groupby([ 'model'])[[ 'returns', 'mdd']].mean().round(4)"
   ]
  },
  {
   "cell_type": "code",
   "execution_count": null,
   "id": "b9e6b174",
   "metadata": {},
   "outputs": [],
   "source": [
    "validation_df = results_df[results_df['phase'] == 'validation']\n",
    "validation_df.groupby([ 'model'])[[ 'returns', 'mdd']].mean().round(4)"
   ]
  }
 ],
 "metadata": {
  "kernelspec": {
   "display_name": "genetic_algo_venv",
   "language": "python",
   "name": "python3"
  },
  "language_info": {
   "codemirror_mode": {
    "name": "ipython",
    "version": 3
   },
   "file_extension": ".py",
   "mimetype": "text/x-python",
   "name": "python",
   "nbconvert_exporter": "python",
   "pygments_lexer": "ipython3",
   "version": "3.9.6"
  }
 },
 "nbformat": 4,
 "nbformat_minor": 5
}
