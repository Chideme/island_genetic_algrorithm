{
 "cells": [
  {
   "cell_type": "code",
   "execution_count": 1,
   "id": "24d56d96",
   "metadata": {},
   "outputs": [],
   "source": [
    "import numpy as np\n",
    "import random\n",
    "import math\n",
    "import multiprocess as mp\n",
    "import talib as ta\n",
    "import pandas as pd\n",
    "from sklearn.model_selection import train_test_split\n",
    "import matplotlib.pyplot as plt\n",
    "from datetime import datetime,date\n",
    "from gga import GGA\n",
    "from island_ga import IslandGGA "
   ]
  },
  {
   "cell_type": "code",
   "execution_count": 2,
   "id": "5e4c4b1c",
   "metadata": {},
   "outputs": [],
   "source": [
    "#rename column to remove spaces in column names\n",
    "data=pd.read_csv('HistoricalQuotes.csv')\n",
    "aapl =data.rename(columns={' Close/Last': 'close', ' Volume': 'volume',\n",
    "                           ' Open':'open',' High':'high',' Low':'low'})\n",
    "                        \n",
    "\n",
    "#change date string into date format and sort the dataframe in ascending order\n",
    "aapl[['Date']] = aapl[['Date']].applymap(lambda x: datetime.strptime(x,'%m/%d/%Y').date())\n",
    "aapl =aapl.sort_values(by='Date')\n",
    "#change dataframe dtypes to float\n",
    "cols = [i for i in aapl if i not in ['Date','volume']]\n",
    "def to_float(x):\n",
    "    x = x.strip()\n",
    "    return float(x[1:])\n",
    "\n",
    "aapl[cols]=aapl[cols].applymap(to_float)\n",
    "\n",
    "#Create Signals using Talib library\n",
    "aapl['5EMA'] = ta.SMA(np.array(aapl['close']),5)\n",
    "aapl['20EMA'] = ta.EMA(np.array(aapl['close']), timeperiod = 20)\n",
    "aapl['RSI'] = ta.RSI(np.array(aapl['close']), timeperiod = 14)\n",
    "aapl['WILLR'] = ta.WILLR(np.array(aapl['high']), np.array(aapl['low']), np.array(aapl['close']), timeperiod=14)\n",
    "aapl['MOM'] = ta.MOM(np.array(aapl['close']), timeperiod=5)\n",
    "aapl['CCI'] = ta.CCI(np.array(aapl['high']), np.array(aapl['low']), np.array(aapl['close']), timeperiod=14)\n",
    "aapl['SLOWK'],aapl['SLOWD'] = ta.STOCH(np.array(aapl['high']), np.array(aapl['low']), np.array(aapl['close']), fastk_period=14, slowk_period=3, slowd_period=3)\n",
    "aapl['MACD'],aapl['MACDSIGNAL'],aapl['MACDHIST'] = ta.MACD(np.array(aapl['close']), fastperiod=12, slowperiod=26, signalperiod=9)\n",
    "aapl['DMI'] = ta.DX(np.array(aapl['high']), np.array(aapl['low']), np.array(aapl['close']), timeperiod=14)   "
   ]
  },
  {
   "cell_type": "code",
   "execution_count": 3,
   "id": "39f37476",
   "metadata": {},
   "outputs": [],
   "source": [
    "#  \"\"\"Based on parameter setting adopted in Chen et al (2021) \"\"\"\n",
    "def generate_candidate_trading_signals(data):\n",
    "    \"\"\"Based on parameter setting adopted in Chen et al (2021) \"\"\"\n",
    "    conditions ={'TS1':[\n",
    "                (data['5EMA'] > data['20EMA']),\n",
    "                (data['5EMA'] < data['20EMA'])],\n",
    "                 'TS2':[\n",
    "                (data['RSI'] > 30),\n",
    "                (data['RSI'] < 70),\n",
    "                ],\n",
    "                 'TS3':[\n",
    "                (data['WILLR'] < 80),\n",
    "                (data['WILLR'] > 20),\n",
    "                ],\n",
    "                 'TS4':[\n",
    "                (data['MOM'] > 0 ),\n",
    "                (data['MOM'] <= 0),\n",
    "                ],\n",
    "                 'TS5': [\n",
    "                (data['CCI'] > 100 ),\n",
    "                (data['CCI'] <= 100),\n",
    "                ],\n",
    "                 'TS6': [\n",
    "                (data['SLOWK'] > data['SLOWD']) & (data['SLOWD'] < 20),\n",
    "                (data['SLOWK'] < data['SLOWD']) & (data['SLOWD'] > 80)],\n",
    "                'TS7': [\n",
    "                (data['MACD'] > 0 ),\n",
    "                (data['MACD'] <= 0)],\n",
    "                'TS8': [\n",
    "                (data['CCI'] > 100 ),\n",
    "                (data['CCI'] <= -100)]}\n",
    "\n",
    "    # create a list of the values we want to assign for each condition 1: buy, 0: sell\n",
    "    values = [1, 0]\n",
    "\n",
    "    # create a new column and use np.select to assign values to it using our lists as arguments\n",
    "    for i in conditions:\n",
    "        data[i] = np.select(conditions[i], values)\n",
    "    strategies =list(conditions.keys())\n",
    "    return data,strategies"
   ]
  },
  {
   "cell_type": "code",
   "execution_count": 4,
   "id": "6dfee250",
   "metadata": {},
   "outputs": [],
   "source": [
    "#split data\n",
    "train = aapl[(aapl['Date'] <= date(2016,12,31))]\n",
    "test = aapl[(aapl['Date'] > date(2016,12,31))]\n",
    "train_data, strategies =generate_candidate_trading_signals(train.copy())\n",
    "test_data, test_strategies =generate_candidate_trading_signals(test.copy())\n",
    "num_islands=3\n",
    "num_iter=20\n",
    "pSize=50\n",
    "m_iter=5\n",
    "N=5\n",
    "K=3\n",
    "r_cross=0.8\n",
    "r_mut= 0.01\n",
    "r_inv=0.3\n",
    "n=4\n",
    "b=4\n",
    "stop_loss=-0.15\n",
    "take_profit=0.15\n",
    "allocated_capital=1000\n",
    "islandgga = IslandGGA(num_islands,num_iter,train_data,strategies,pSize,m_iter,N,K,r_cross,r_mut,r_inv,n,b,stop_loss,take_profit,allocated_capital)"
   ]
  },
  {
   "cell_type": "code",
   "execution_count": 8,
   "id": "e119d468",
   "metadata": {},
   "outputs": [
    {
     "name": "stdout",
     "output_type": "stream",
     "text": [
      "Iteration: 0\n",
      "Iteration: 1\n",
      "Iteration: 2\n",
      "Iteration: 3\n",
      "Iteration: 4\n",
      "Iteration: 5\n",
      "Iteration: 6\n",
      "Iteration: 7\n",
      "Iteration: 8\n",
      "Iteration: 9\n",
      "Iteration: 10\n",
      "Iteration: 11\n",
      "Iteration: 12\n",
      "Iteration: 13\n",
      "Iteration: 14\n",
      "Iteration: 15\n",
      "Iteration: 16\n",
      "Iteration: 17\n"
     ]
    }
   ],
   "source": [
    "ring = []\n",
    "master = []\n",
    "multi = []\n",
    "for i in range(50):\n",
    "    islandgga.evolve_island_ring()\n",
    "    ring.append(islandgga.evaluate_best_profit(test_data))\n",
    "    islandgga.evolve_master_slave()\n",
    "    master.append(islandgga.evaluate_best_profit(test_data))\n",
    "    islandgga.evolve_island_multikuti()\n",
    "    multi.append(islandgga.evaluate_best_profit(test_data))\n",
    "    print(\"Iteration: {}\".format(i))"
   ]
  },
  {
   "cell_type": "code",
   "execution_count": 5,
   "id": "434ef35e",
   "metadata": {},
   "outputs": [],
   "source": [
    "islandgga.evolve_island_ring()"
   ]
  },
  {
   "cell_type": "code",
   "execution_count": 6,
   "id": "621a40fb",
   "metadata": {},
   "outputs": [
    {
     "data": {
      "text/plain": [
       "163.8869534041958"
      ]
     },
     "execution_count": 6,
     "metadata": {},
     "output_type": "execute_result"
    }
   ],
   "source": [
    "islandgga.evaluate_best_profit(test_data)"
   ]
  }
 ],
 "metadata": {
  "kernelspec": {
   "display_name": "Python 3.10.8 ('genetic_algos')",
   "language": "python",
   "name": "python3"
  },
  "language_info": {
   "codemirror_mode": {
    "name": "ipython",
    "version": 3
   },
   "file_extension": ".py",
   "mimetype": "text/x-python",
   "name": "python",
   "nbconvert_exporter": "python",
   "pygments_lexer": "ipython3",
   "version": "3.10.8"
  },
  "vscode": {
   "interpreter": {
    "hash": "43faf8d01a8aba8cec64b4d9f33171d2dc6fa8e1fdc037e6a7dd9611cf70e855"
   }
  }
 },
 "nbformat": 4,
 "nbformat_minor": 5
}
