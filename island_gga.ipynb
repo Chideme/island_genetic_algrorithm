{
 "cells": [
  {
   "cell_type": "code",
   "execution_count": 1,
   "id": "24d56d96",
   "metadata": {},
   "outputs": [],
   "source": [
    "import numpy as np\n",
    "import random\n",
    "import math\n",
    "import multiprocess as mp\n",
    "import talib as ta\n",
    "import pandas as pd\n",
    "from sklearn.model_selection import train_test_split\n",
    "import matplotlib.pyplot as plt\n",
    "from datetime import datetime,date\n",
    "from gga import GGA\n",
    "from island_ga import IslandGGA "
   ]
  },
  {
   "cell_type": "code",
   "execution_count": 2,
   "id": "5e4c4b1c",
   "metadata": {},
   "outputs": [],
   "source": [
    "#rename column to remove spaces in column names\n",
    "data=pd.read_csv('HistoricalQuotes.csv')\n",
    "aapl =data.rename(columns={' Close/Last': 'close', ' Volume': 'volume',\n",
    "                           ' Open':'open',' High':'high',' Low':'low'})\n",
    "                        \n",
    "\n",
    "#change date string into date format and sort the dataframe in ascending order\n",
    "aapl[['Date']] = aapl[['Date']].applymap(lambda x: datetime.strptime(x,'%m/%d/%Y').date())\n",
    "aapl =aapl.sort_values(by='Date')\n",
    "#change dataframe dtypes to float\n",
    "cols = [i for i in aapl if i not in ['Date','volume']]\n",
    "def to_float(x):\n",
    "    x = x.strip()\n",
    "    return float(x[1:])\n",
    "\n",
    "aapl[cols]=aapl[cols].applymap(to_float)\n",
    "\n",
    "#Create Signals using Talib library\n",
    "aapl['5EMA'] = ta.SMA(np.array(aapl['close']),5)\n",
    "aapl['20EMA'] = ta.EMA(np.array(aapl['close']), timeperiod = 20)\n",
    "aapl['RSI'] = ta.RSI(np.array(aapl['close']), timeperiod = 14)\n",
    "aapl['WILLR'] = ta.WILLR(np.array(aapl['high']), np.array(aapl['low']), np.array(aapl['close']), timeperiod=14)\n",
    "aapl['MOM'] = ta.MOM(np.array(aapl['close']), timeperiod=5)\n",
    "aapl['CCI'] = ta.CCI(np.array(aapl['high']), np.array(aapl['low']), np.array(aapl['close']), timeperiod=14)\n",
    "aapl['SLOWK'],aapl['SLOWD'] = ta.STOCH(np.array(aapl['high']), np.array(aapl['low']), np.array(aapl['close']), fastk_period=14, slowk_period=3, slowd_period=3)\n",
    "aapl['MACD'],aapl['MACDSIGNAL'],aapl['MACDHIST'] = ta.MACD(np.array(aapl['close']), fastperiod=12, slowperiod=26, signalperiod=9)\n",
    "aapl['DMI'] = ta.DX(np.array(aapl['high']), np.array(aapl['low']), np.array(aapl['close']), timeperiod=14)   "
   ]
  },
  {
   "cell_type": "code",
   "execution_count": 4,
   "id": "39f37476",
   "metadata": {},
   "outputs": [],
   "source": [
    "#  \"\"\"Based on parameter setting adopted in Chen et al (2021) \"\"\"\n",
    "def generate_candidate_trading_signals(data):\n",
    "    \"\"\"Based on parameter setting adopted in Chen et al (2021) \"\"\"\n",
    "    conditions ={'TS1':[\n",
    "                (data['5EMA'] > data['20EMA']),\n",
    "                (data['5EMA'] < data['20EMA'])],\n",
    "                 'TS2':[\n",
    "                (data['RSI'] > 30),\n",
    "                (data['RSI'] < 70),\n",
    "                ],\n",
    "                 'TS3':[\n",
    "                (data['WILLR'] < 80),\n",
    "                (data['WILLR'] > 20),\n",
    "                ],\n",
    "                 'TS4':[\n",
    "                (data['MOM'] > 0 ),\n",
    "                (data['MOM'] <= 0),\n",
    "                ],\n",
    "                 'TS5': [\n",
    "                (data['CCI'] > 100 ),\n",
    "                (data['CCI'] <= 100),\n",
    "                ],\n",
    "                 'TS6': [\n",
    "                (data['SLOWK'] > data['SLOWD']) & (data['SLOWD'] < 20),\n",
    "                (data['SLOWK'] < data['SLOWD']) & (data['SLOWD'] > 80)],\n",
    "                'TS7': [\n",
    "                (data['MACD'] > 0 ),\n",
    "                (data['MACD'] <= 0)],\n",
    "                'TS8': [\n",
    "                (data['CCI'] > 100 ),\n",
    "                (data['CCI'] <= -100)]}\n",
    "\n",
    "    # create a list of the values we want to assign for each condition 1: buy, 0: sell\n",
    "    values = [1, 0]\n",
    "\n",
    "    # create a new column and use np.select to assign values to it using our lists as arguments\n",
    "    for i in conditions:\n",
    "        data[i] = np.select(conditions[i], values)\n",
    "    strategies =list(conditions.keys())\n",
    "    return data,strategies"
   ]
  },
  {
   "cell_type": "code",
   "execution_count": 5,
   "id": "6dfee250",
   "metadata": {},
   "outputs": [],
   "source": [
    "#split data\n",
    "train = aapl[(aapl['Date'] <= date(2016,12,31))]\n",
    "test = aapl[(aapl['Date'] > date(2016,12,31))]\n",
    "train_data, strategies =generate_candidate_trading_signals(train.copy())\n",
    "test_data, test_strategies =generate_candidate_trading_signals(test.copy())\n",
    "num_islands=3\n",
    "num_iter=20\n",
    "pSize=20\n",
    "m_iter=5\n",
    "N=5\n",
    "K=3\n",
    "r_cross=0.8\n",
    "r_mut= 0.01\n",
    "r_inv=0.3\n",
    "n=4\n",
    "b=4\n",
    "stop_loss=-0.15\n",
    "take_profit=0.15\n",
    "allocated_capital=1000\n",
    "islandgga = IslandGGA(num_islands,num_iter,train_data,strategies,pSize,m_iter,N,K,r_cross,r_mut,r_inv,n,b,stop_loss,take_profit,allocated_capital)"
   ]
  },
  {
   "cell_type": "code",
   "execution_count": 19,
   "id": "0d74d188",
   "metadata": {},
   "outputs": [
    {
     "name": "stdout",
     "output_type": "stream",
     "text": [
      "[[1, 1, 1, 0, 1, 0, 1, 0], [array(['TS5', 'TS2', 'TS1'], dtype='<U3'), array(['TS3', 'TS7', 'TS6'], dtype='<U3'), array(['TS8', 'TS4'], dtype='<U3')], [0, 0, 0, 0, 1, 1, 1], 1]\n"
     ]
    }
   ],
   "source": [
    "\n",
    "print(pop[0])"
   ]
  },
  {
   "cell_type": "code",
   "execution_count": 22,
   "id": "62cdbc93",
   "metadata": {},
   "outputs": [
    {
     "data": {
      "text/plain": [
       "0.0"
      ]
     },
     "execution_count": 22,
     "metadata": {},
     "output_type": "execute_result"
    }
   ],
   "source": [
    "ts= islandgga.strategy_performance(pop[0][0])\n",
    "islandgga.getProfit(ts,pop[0])"
   ]
  },
  {
   "cell_type": "code",
   "execution_count": 21,
   "id": "3264873d",
   "metadata": {},
   "outputs": [
    {
     "data": {
      "text/plain": [
       "{0: [], 1: [], 2: [], 3: []}"
      ]
     },
     "execution_count": 21,
     "metadata": {},
     "output_type": "execute_result"
    }
   ],
   "source": [
    "islandgga.getWeights(pop[0][2])"
   ]
  },
  {
   "cell_type": "code",
   "execution_count": 11,
   "id": "df412ef8",
   "metadata": {},
   "outputs": [
    {
     "name": "stdout",
     "output_type": "stream",
     "text": [
      "          TS4       TS7       TS1\n",
      "TS4  1.000000 -0.168177 -0.005935\n",
      "TS7 -0.168177  1.000000  0.408830\n",
      "TS1 -0.005935  0.408830  1.000000\n",
      "          TS4       TS7       TS5\n",
      "TS4  1.000000 -0.168177 -0.289161\n",
      "TS7 -0.168177  1.000000  0.127457\n",
      "TS5 -0.289161  0.127457  1.000000\n",
      "          TS4       TS8       TS1\n",
      "TS4  1.000000 -0.289161 -0.005935\n",
      "TS8 -0.289161  1.000000  0.135474\n",
      "TS1 -0.005935  0.135474  1.000000\n",
      "          TS4       TS8       TS5\n",
      "TS4  1.000000 -0.289161 -0.289161\n",
      "TS8 -0.289161  1.000000  1.000000\n",
      "TS5 -0.289161  1.000000  1.000000\n",
      "          TS4       TS2       TS1\n",
      "TS4  1.000000  0.920857 -0.005935\n",
      "TS2  0.920857  1.000000  0.054163\n",
      "TS1 -0.005935  0.054163  1.000000\n",
      "          TS4       TS2       TS5\n",
      "TS4  1.000000  0.920857 -0.289161\n",
      "TS2  0.920857  1.000000 -0.377084\n",
      "TS5 -0.289161 -0.377084  1.000000\n",
      "          TS6      TS7       TS1\n",
      "TS6  1.000000 -0.23195 -0.049123\n",
      "TS7 -0.231950  1.00000  0.408830\n",
      "TS1 -0.049123  0.40883  1.000000\n",
      "          TS6       TS7       TS5\n",
      "TS6  1.000000 -0.231950 -0.152267\n",
      "TS7 -0.231950  1.000000  0.127457\n",
      "TS5 -0.152267  0.127457  1.000000\n",
      "          TS6       TS8       TS1\n",
      "TS6  1.000000 -0.152267 -0.049123\n",
      "TS8 -0.152267  1.000000  0.135474\n",
      "TS1 -0.049123  0.135474  1.000000\n",
      "          TS6       TS8       TS5\n",
      "TS6  1.000000 -0.152267 -0.152267\n",
      "TS8 -0.152267  1.000000  1.000000\n",
      "TS5 -0.152267  1.000000  1.000000\n",
      "          TS6       TS2       TS1\n",
      "TS6  1.000000  0.570793 -0.049123\n",
      "TS2  0.570793  1.000000  0.054163\n",
      "TS1 -0.049123  0.054163  1.000000\n",
      "          TS6       TS2       TS5\n",
      "TS6  1.000000  0.570793 -0.152267\n",
      "TS2  0.570793  1.000000 -0.377084\n",
      "TS5 -0.152267 -0.377084  1.000000\n",
      "          TS3       TS7       TS1\n",
      "TS3  1.000000 -0.171888  0.121473\n",
      "TS7 -0.171888  1.000000  0.408830\n",
      "TS1  0.121473  0.408830  1.000000\n",
      "          TS3       TS7       TS5\n",
      "TS3  1.000000 -0.171888 -0.355244\n",
      "TS7 -0.171888  1.000000  0.127457\n",
      "TS5 -0.355244  0.127457  1.000000\n",
      "          TS3       TS8       TS1\n",
      "TS3  1.000000 -0.355244  0.121473\n",
      "TS8 -0.355244  1.000000  0.135474\n",
      "TS1  0.121473  0.135474  1.000000\n",
      "          TS3       TS8       TS5\n",
      "TS3  1.000000 -0.355244 -0.355244\n",
      "TS8 -0.355244  1.000000  1.000000\n",
      "TS5 -0.355244  1.000000  1.000000\n",
      "          TS3       TS2       TS1\n",
      "TS3  1.000000  0.985626  0.121473\n",
      "TS2  0.985626  1.000000  0.054163\n",
      "TS1  0.121473  0.054163  1.000000\n",
      "          TS3       TS2       TS5\n",
      "TS3  1.000000  0.985626 -0.355244\n",
      "TS2  0.985626  1.000000 -0.377084\n",
      "TS5 -0.355244 -0.377084  1.000000\n"
     ]
    },
    {
     "data": {
      "text/plain": [
       "12.76744590714522"
      ]
     },
     "execution_count": 11,
     "metadata": {},
     "output_type": "execute_result"
    }
   ],
   "source": [
    "pop =islandgga.init_population()\n",
    "\n",
    "ts= islandgga.strategy_performance(pop[0][0])\n",
    "islandgga.getCorrelation(ts,pop[0])"
   ]
  },
  {
   "cell_type": "code",
   "execution_count": 18,
   "id": "e119d468",
   "metadata": {},
   "outputs": [],
   "source": [
    "ring = []\n",
    "master = []\n",
    "multi = []\n",
    "for i in range(50):\n",
    "    islandgga.evolve_island_ring()\n",
    "    ring_p4mc = islandgga.evaluate_best_profit(test_data)\n",
    "    ring.append(islandgga.globalBest)\n",
    "    islandgga.evolve_master_slave()\n",
    "    master.append(islandgga.globalBest)\n",
    "    islandgga.evolve_island_multikuti()\n",
    "    multi.append(islandgga.globalBest)"
   ]
  },
  {
   "cell_type": "code",
   "execution_count": 6,
   "id": "434ef35e",
   "metadata": {},
   "outputs": [],
   "source": [
    "islandgga.evolve_island_ring()"
   ]
  },
  {
   "cell_type": "code",
   "execution_count": 7,
   "id": "621a40fb",
   "metadata": {},
   "outputs": [
    {
     "data": {
      "text/plain": [
       "273.86607460605836"
      ]
     },
     "execution_count": 7,
     "metadata": {},
     "output_type": "execute_result"
    }
   ],
   "source": [
    "islandgga.evaluate_best_profit(test_data)"
   ]
  }
 ],
 "metadata": {
  "kernelspec": {
   "display_name": "Python 3.10.8 ('genetic_algos')",
   "language": "python",
   "name": "python3"
  },
  "language_info": {
   "codemirror_mode": {
    "name": "ipython",
    "version": 3
   },
   "file_extension": ".py",
   "mimetype": "text/x-python",
   "name": "python",
   "nbconvert_exporter": "python",
   "pygments_lexer": "ipython3",
   "version": "3.10.8"
  },
  "vscode": {
   "interpreter": {
    "hash": "43faf8d01a8aba8cec64b4d9f33171d2dc6fa8e1fdc037e6a7dd9611cf70e855"
   }
  }
 },
 "nbformat": 4,
 "nbformat_minor": 5
}
