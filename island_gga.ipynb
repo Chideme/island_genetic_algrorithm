{
 "cells": [
  {
   "cell_type": "code",
   "execution_count": 1,
   "id": "24d56d96",
   "metadata": {},
   "outputs": [],
   "source": [
    "import numpy as np\n",
    "import random\n",
    "import math\n",
    "import multiprocess as mp\n",
    "import talib as ta\n",
    "import pandas as pd\n",
    "from sklearn.model_selection import train_test_split\n",
    "import matplotlib.pyplot as plt\n",
    "from datetime import datetime,date\n",
    "from gga import GGA\n",
    "from island_ga import IslandGGA  \n",
    "from chromosome import Chromosome "
   ]
  },
  {
   "cell_type": "code",
   "execution_count": 2,
   "id": "5e4c4b1c",
   "metadata": {},
   "outputs": [],
   "source": [
    "#rename column to remove spaces in column names\n",
    "data=pd.read_csv('HistoricalQuotes.csv')\n",
    "aapl =data.rename(columns={' Close/Last': 'close', ' Volume': 'volume',\n",
    "                           ' Open':'open',' High':'high',' Low':'low'})\n",
    "                        \n",
    "\n",
    "#change date string into date format and sort the dataframe in ascending order\n",
    "aapl[['Date']] = aapl[['Date']].applymap(lambda x: datetime.strptime(x,'%m/%d/%Y').date())\n",
    "aapl =aapl.sort_values(by='Date')\n",
    "#change dataframe dtypes to float\n",
    "cols = [i for i in aapl if i not in ['Date','volume']]\n",
    "def to_float(x):\n",
    "    x = x.strip()\n",
    "    return float(x[1:])\n",
    "\n",
    "aapl[cols]=aapl[cols].applymap(to_float)\n",
    "\n",
    "#Create Signals using Talib library\n",
    "aapl['5EMA'] = ta.SMA(np.array(aapl['close']),5)\n",
    "aapl['20EMA'] = ta.EMA(np.array(aapl['close']), timeperiod = 20)\n",
    "aapl['RSI'] = ta.RSI(np.array(aapl['close']), timeperiod = 14)\n",
    "aapl['WILLR'] = ta.WILLR(np.array(aapl['high']), np.array(aapl['low']), np.array(aapl['close']), timeperiod=14)\n",
    "aapl['MOM'] = ta.MOM(np.array(aapl['close']), timeperiod=5)\n",
    "aapl['CCI'] = ta.CCI(np.array(aapl['high']), np.array(aapl['low']), np.array(aapl['close']), timeperiod=14)\n",
    "aapl['SLOWK'],aapl['SLOWD'] = ta.STOCH(np.array(aapl['high']), np.array(aapl['low']), np.array(aapl['close']), fastk_period=14, slowk_period=3, slowd_period=3)\n",
    "aapl['MACD'],aapl['MACDSIGNAL'],aapl['MACDHIST'] = ta.MACD(np.array(aapl['close']), fastperiod=12, slowperiod=26, signalperiod=9)\n",
    "aapl['DMI'] = ta.DX(np.array(aapl['high']), np.array(aapl['low']), np.array(aapl['close']), timeperiod=14)   "
   ]
  },
  {
   "cell_type": "code",
   "execution_count": 3,
   "id": "39f37476",
   "metadata": {},
   "outputs": [],
   "source": [
    "#  \"\"\"Based on parameter setting adopted in Chen et al (2021) \"\"\"\n",
    "def generate_candidate_trading_signals(data):\n",
    "    \"\"\"Based on parameter setting adopted in Chen et al (2021) \"\"\"\n",
    "    conditions ={'TS1':[\n",
    "                (data['5EMA'] > data['20EMA']),\n",
    "                (data['5EMA'] < data['20EMA'])],\n",
    "                 'TS2':[\n",
    "                (data['RSI'] > 30),\n",
    "                (data['RSI'] < 70),\n",
    "                ],\n",
    "                 'TS3':[\n",
    "                (data['WILLR'] < 80),\n",
    "                (data['WILLR'] > 20),\n",
    "                ],\n",
    "                 'TS4':[\n",
    "                (data['MOM'] > 0 ),\n",
    "                (data['MOM'] <= 0),\n",
    "                ],\n",
    "                 'TS5': [\n",
    "                (data['CCI'] > 100 ),\n",
    "                (data['CCI'] <= 100),\n",
    "                ],\n",
    "                 'TS6': [\n",
    "                (data['SLOWK'] > data['SLOWD']) & (data['SLOWD'] < 20),\n",
    "                (data['SLOWK'] < data['SLOWD']) & (data['SLOWD'] > 80)],\n",
    "                'TS7': [\n",
    "                (data['MACD'] > 0 ),\n",
    "                (data['MACD'] <= 0)],\n",
    "                'TS8': [\n",
    "                (data['CCI'] > 100 ),\n",
    "                (data['CCI'] <= -100)]}\n",
    "\n",
    "    # create a list of the values we want to assign for each condition 1: buy, 0: sell\n",
    "    values = [1, 0]\n",
    "\n",
    "    # create a new column and use np.select to assign values to it using our lists as arguments\n",
    "    for i in conditions:\n",
    "        data[i] = np.select(conditions[i], values)\n",
    "    strategies =list(conditions.keys())\n",
    "    return data,strategies"
   ]
  },
  {
   "cell_type": "code",
   "execution_count": 4,
   "id": "6dfee250",
   "metadata": {},
   "outputs": [],
   "source": [
    "#split data\n",
    "train = aapl[(aapl['Date'] <= date(2016,12,31))]\n",
    "test = aapl[(aapl['Date'] > date(2016,12,31))]\n",
    "train_data, strategies =generate_candidate_trading_signals(train.copy())\n",
    "test_data, test_strategies =generate_candidate_trading_signals(test.copy())\n",
    "num_islands=3\n",
    "num_iter=20\n",
    "pSize=50\n",
    "m_iter=5\n",
    "N=5\n",
    "K=3\n",
    "r_cross=0.8\n",
    "r_mut= 0.01\n",
    "r_inv=0.3\n",
    "n=4\n",
    "b=4\n",
    "stop_loss=-0.15\n",
    "take_profit=0.15\n",
    "allocated_capital=1000\n",
    "islandgga = IslandGGA(num_islands,num_iter,train_data,strategies,pSize,m_iter,N,K,r_cross,r_mut,r_inv,n,b,stop_loss,take_profit,allocated_capital)"
   ]
  },
  {
   "cell_type": "code",
   "execution_count": 5,
   "id": "1c0615cb",
   "metadata": {},
   "outputs": [],
   "source": [
    "islandgga.evolve_master_slave()\n",
    "\n"
   ]
  },
  {
   "cell_type": "code",
   "execution_count": 30,
   "id": "13e35a4a",
   "metadata": {},
   "outputs": [
    {
     "name": "stdout",
     "output_type": "stream",
     "text": [
      "SLTP: [1, 1, 1, 0, 1, 0, 0, 0]\n",
      "GROUP: [['TS2', 'TS1', 'TS7', 'TS7'], ['TS3', 'TS4', 'TS7'], ['TS8', 'TS5', 'TS6', 'TS6']]\n",
      "WEIGHT: [0, 0, 0, 0, 1, 0, 0]\n",
      "FITNESS: 1.031653713683589\n",
      "=====\n",
      "profit: 115485.96953316449\n",
      "corr: 126006.16261269519\n",
      "gb: 1.0609581504393426\n",
      "wb: 1\n"
     ]
    },
    {
     "data": {
      "text/plain": [
       "1.031653713683589"
      ]
     },
     "execution_count": 30,
     "metadata": {},
     "output_type": "execute_result"
    }
   ],
   "source": [
    "GROUP =[['TS2', 'TS1', 'TS7', 'TS7'], ['TS3', 'TS4', 'TS7'], ['TS8', 'TS5', 'TS6', 'TS6']]\n",
    "WEIGHT=[0, 0, 0, 0, 1, 0, 0]\n",
    "FITNESS=0.0\n",
    "SLTP=[1, 1, 1, 0, 1, 0, 0, 0]\n",
    "print(pop[0])\n",
    "pop[0].group_part = GROUP\n",
    "pop[0].weight_part = WEIGHT\n",
    "pop[0].sltp_part = SLTP\n",
    "print(\"=====\")\n",
    "pop[0].calculate_chromosome_fitness(test_data,allocated_capital)\n",
    "pop[0].fitness_value\n"
   ]
  },
  {
   "cell_type": "code",
   "execution_count": 6,
   "id": "e119d468",
   "metadata": {},
   "outputs": [
    {
     "name": "stdout",
     "output_type": "stream",
     "text": [
      "ITERATION: 1\n",
      "========================\n",
      "ITERATION: 2\n",
      "========================\n",
      "ITERATION: 3\n",
      "========================\n",
      "ITERATION: 4\n",
      "========================\n"
     ]
    },
    {
     "data": {
      "image/png": "[encoded data removed]",
      "text/plain": [
       "<Figure size 640x480 with 1 Axes>"
      ]
     },
     "metadata": {},
     "output_type": "display_data"
    }
   ],
   "source": [
    "ring = []\n",
    "master = []\n",
    "multi = []\n",
    "for i in range(4):\n",
    "    islandgga.evolve_island_ring()\n",
    "    best  = islandgga.globalBest\n",
    "    ring.append(best.getProfit(test_data,allocated_capital))\n",
    "    islandgga.evolve_master_slave()\n",
    "    best  = islandgga.globalBest\n",
    "    master.append(best.getProfit(test_data,allocated_capital))\n",
    "    islandgga.evolve_island_multikuti()\n",
    "    best  = islandgga.globalBest\n",
    "    multi.append(best.getProfit(test_data,allocated_capital))\n",
    "    print(\"ITERATION: {}\".format(i+1))\n",
    "    print(\"========================\")\n",
    "# multiple lines with legend\n",
    "cols = [\"Ring Topology\",\"Master-Slave\",\"Multkuti\"]\n",
    "df = pd.DataFrame({'Algorithm':cols, 'Total Return':[np.mean(ring),np.mean(master),np.mean(multi)]})\n",
    "ax = df.plot.bar(x='Algorithm', y='Total Return', rot=0)"
   ]
  },
  {
   "cell_type": "code",
   "execution_count": null,
   "id": "c21ef95a",
   "metadata": {},
   "outputs": [],
   "source": [
    "ring = []\n",
    "master = []\n",
    "multi = []\n",
    "for i in range(80):\n",
    "    islandgga.evolve_island_ring()\n",
    "    best  = islandgga.globalBest\n",
    "    ring.append(best.getProfit(test_data,allocated_capital))\n",
    "    islandgga.evolve_master_slave()\n",
    "    best  = islandgga.globalBest\n",
    "    master.append(best.getProfit(test_data,allocated_capital))\n",
    "    islandgga.evolve_island_multikuti()\n",
    "    best  = islandgga.globalBest\n",
    "    multi.append(best.getProfit(test_data,allocated_capital))\n",
    "    print(\"ITERATION: {}\".format(i+1))\n",
    "    print(\"========================\")\n",
    "# multiple lines with legend\n",
    "cols = [\"Ring Topology\",\"Master-Slave\",\"Multkuti\"]\n",
    "df = pd.DataFrame({'Algorithm':cols, 'Total Return':[np.mean(ring),np.mean(master),np.mean(multi)]})\n",
    "ax = df.plot.bar(x='Algorithm', y='Total Return', rot=0)"
   ]
  }
 ],
 "metadata": {
  "kernelspec": {
   "display_name": "Python 3.10.8 ('genetic_algos')",
   "language": "python",
   "name": "python3"
  },
  "language_info": {
   "codemirror_mode": {
    "name": "ipython",
    "version": 3
   },
   "file_extension": ".py",
   "mimetype": "text/x-python",
   "name": "python",
   "nbconvert_exporter": "python",
   "pygments_lexer": "ipython3",
   "version": "3.10.8"
  },
  "vscode": {
   "interpreter": {
    "hash": "43faf8d01a8aba8cec64b4d9f33171d2dc6fa8e1fdc037e6a7dd9611cf70e855"
   }
  }
 },
 "nbformat": 4,
 "nbformat_minor": 5
}
